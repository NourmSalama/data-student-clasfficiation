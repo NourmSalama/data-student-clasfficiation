{
 "cells": [
  {
   "cell_type": "markdown",
   "metadata": {},
   "source": [
    "First were importing the needed libraries and the dataset for this project."
   ]
  },
  {
   "cell_type": "code",
   "execution_count": 1,
   "metadata": {},
   "outputs": [],
   "source": [
    "import pandas as pd"
   ]
  },
  {
   "cell_type": "markdown",
   "metadata": {},
   "source": [
    "Next were importing the dataset and concatenating the mutiple dataframes into one, I had some problems doing this Mr. MK came in clucht and helped me out with this boilerplate code.\n"
   ]
  },
  {
   "cell_type": "code",
   "execution_count": 2,
   "metadata": {},
   "outputs": [],
   "source": [
    "with open('./CUB_200_2011/CUB_200_2011/attributes/image_attribute_labels.txt', 'r') as file:\n",
    "    lines = [line.strip().split()[:3] for line in file]\n",
    "\n",
    "main_dataset = pd.DataFrame(lines, columns=['imgid', 'attid', 'present']).astype(int)"
   ]
  },
  {
   "cell_type": "markdown",
   "metadata": {},
   "source": [
    "Next were going to clean the dataset, this is neccesarly because we want the have a clean dataset to work with. This improves the accuracy and relatability of the model were going to build."
   ]
  },
  {
   "cell_type": "markdown",
   "metadata": {},
   "source": [
    "First were checking if the dataset contains null values, if so were going to drop them. In our case it's returning false for the all the attributes so we don't have to drop any null values. But for the practise we will implement it anyway."
   ]
  },
  {
   "cell_type": "code",
   "execution_count": 3,
   "metadata": {},
   "outputs": [
    {
     "name": "stdout",
     "output_type": "stream",
     "text": [
      "There are no null values in the dataset\n"
     ]
    }
   ],
   "source": [
    "# Just for checking porpuses the data has no any null values\n",
    "if main_dataset.isnull().any().any():\n",
    "    print(\"There are null values in the dataset\")\n",
    "else:\n",
    "    print(\"There are no null values in the dataset\")"
   ]
  },
  {
   "cell_type": "markdown",
   "metadata": {},
   "source": [
    "Now we need to check if the dataset needs to be converted to numerical data so we can use it in our model."
   ]
  },
  {
   "cell_type": "code",
   "execution_count": 4,
   "metadata": {},
   "outputs": [
    {
     "data": {
      "text/html": [
       "<div>\n",
       "<style scoped>\n",
       "    .dataframe tbody tr th:only-of-type {\n",
       "        vertical-align: middle;\n",
       "    }\n",
       "\n",
       "    .dataframe tbody tr th {\n",
       "        vertical-align: top;\n",
       "    }\n",
       "\n",
       "    .dataframe thead th {\n",
       "        text-align: right;\n",
       "    }\n",
       "</style>\n",
       "<table border=\"1\" class=\"dataframe\">\n",
       "  <thead>\n",
       "    <tr style=\"text-align: right;\">\n",
       "      <th></th>\n",
       "      <th>imgid</th>\n",
       "      <th>attid</th>\n",
       "      <th>present</th>\n",
       "    </tr>\n",
       "  </thead>\n",
       "  <tbody>\n",
       "    <tr>\n",
       "      <th>0</th>\n",
       "      <td>1</td>\n",
       "      <td>1</td>\n",
       "      <td>0</td>\n",
       "    </tr>\n",
       "    <tr>\n",
       "      <th>1</th>\n",
       "      <td>1</td>\n",
       "      <td>2</td>\n",
       "      <td>0</td>\n",
       "    </tr>\n",
       "    <tr>\n",
       "      <th>2</th>\n",
       "      <td>1</td>\n",
       "      <td>3</td>\n",
       "      <td>0</td>\n",
       "    </tr>\n",
       "    <tr>\n",
       "      <th>3</th>\n",
       "      <td>1</td>\n",
       "      <td>4</td>\n",
       "      <td>0</td>\n",
       "    </tr>\n",
       "    <tr>\n",
       "      <th>4</th>\n",
       "      <td>1</td>\n",
       "      <td>5</td>\n",
       "      <td>1</td>\n",
       "    </tr>\n",
       "  </tbody>\n",
       "</table>\n",
       "</div>"
      ],
      "text/plain": [
       "   imgid  attid  present\n",
       "0      1      1        0\n",
       "1      1      2        0\n",
       "2      1      3        0\n",
       "3      1      4        0\n",
       "4      1      5        1"
      ]
     },
     "metadata": {},
     "output_type": "display_data"
    }
   ],
   "source": [
    "conv_dataset = pd.get_dummies(main_dataset)\n",
    "\n",
    "# Just for checking porpuses\n",
    "display(conv_dataset.head())"
   ]
  },
  {
   "cell_type": "markdown",
   "metadata": {},
   "source": [
    "We make here the train/test split for the model"
   ]
  },
  {
   "cell_type": "code",
   "execution_count": 5,
   "metadata": {},
   "outputs": [],
   "source": [
    "from sklearn.model_selection import train_test_split\n",
    "\n",
    "# Stripping the imgid column for accuracy testing \n",
    "X = conv_dataset.drop(['present', 'imgid'], axis=1)\n",
    "# X = conv_dataset.drop(['present'], axis=1)\n",
    "# The y axis is the classfication of the attributeId\n",
    "y = conv_dataset['present']\n",
    "\n",
    "# Split the data into training and testing sets\n",
    "X_train, X_test, y_train, y_test = train_test_split(X, y, test_size=0.2, random_state=42)"
   ]
  },
  {
   "cell_type": "markdown",
   "metadata": {},
   "source": [
    "Make the train and test set the X axis and the Y Axis of the dataset to implement the random forest model."
   ]
  },
  {
   "cell_type": "code",
   "execution_count": 6,
   "metadata": {},
   "outputs": [
    {
     "name": "stdout",
     "output_type": "stream",
     "text": [
      "[[0.99152328 0.00847672]\n",
      " [0.91444694 0.08555306]\n",
      " [0.86853425 0.13146575]\n",
      " [0.90982    0.09018   ]\n",
      " [0.88943952 0.11056048]]\n",
      "Cross-validated Accuracy: 90.21% (+/- 0.03%) \n",
      "\n",
      "              precision    recall  f1-score   support\n",
      "\n",
      " Not Present       0.91      0.99      0.95    661436\n",
      "     Present       0.62      0.08      0.14     74136\n",
      "\n",
      "    accuracy                           0.90    735572\n",
      "   macro avg       0.76      0.54      0.54    735572\n",
      "weighted avg       0.88      0.90      0.87    735572\n",
      "\n"
     ]
    }
   ],
   "source": [
    "from sklearn.ensemble import RandomForestClassifier\n",
    "from sklearn.metrics import classification_report\n",
    "from sklearn.model_selection import cross_val_score\n",
    "from sklearn.model_selection import StratifiedKFold\n",
    "\n",
    "\n",
    "\n",
    "# This will output the cross validation score in an array then we will take the mean of it\n",
    "clf = RandomForestClassifier(n_estimators=5, random_state=42, max_depth=10)\n",
    "# clf = RandomForestClassifier(criterion='entropy', n_estimators=1, random_state=42, max_depth=10)\n",
    "# clf = RandomForestClassifier(criterion='log_loss', n_estimators=1, random_state=42, max_depth=10)\n",
    "\n",
    "# The number of test sample for the folds are 5\n",
    "cv = StratifiedKFold(n_splits=5, shuffle=True, random_state=42)\n",
    " \n",
    "# This will output the cross validation score in array then we will take the mean of it\n",
    "scores = cross_val_score(clf, X, y, cv = cv)\n",
    "\n",
    "# Train the classifier on the training set \n",
    "clf.fit(X_train, y_train)\n",
    "clf.get_params()\n",
    "\n",
    "# Make predictions on the test set results\n",
    "y_pred = clf.predict(X_test)\n",
    "cross_val_precision = cross_val_score(clf, X, y, cv=cv, scoring='precision')\n",
    "\n",
    "\n",
    "# To get probabilities estimates of the positive class\n",
    "proba_predictions = clf.predict_proba(X_test)\n",
    "\n",
    "# This is the classification report from our model\n",
    "print(proba_predictions[:5]) \n",
    "print(\"Cross-validated Accuracy: %0.2f%% (+/- %0.2f%%)\" % (scores.mean() * 100, scores.std() * 200 ), \"\\n\")\n",
    "print(classification_report(y_test, y_pred, target_names=['Not Present', 'Present']))"
   ]
  },
  {
   "cell_type": "markdown",
   "metadata": {},
   "source": [
    "Now were going to plot the confusion matrix to see how the model is performing."
   ]
  },
  {
   "cell_type": "code",
   "execution_count": 7,
   "metadata": {},
   "outputs": [
    {
     "name": "stdout",
     "output_type": "stream",
     "text": [
      "              precision    recall  f1-score   support\n",
      "\n",
      "           0       0.91      0.99      0.95    661436\n",
      "           1       0.62      0.08      0.14     74136\n",
      "\n",
      "    accuracy                           0.90    735572\n",
      "   macro avg       0.76      0.54      0.54    735572\n",
      "weighted avg       0.88      0.90      0.87    735572\n",
      "\n",
      "              precision    recall  f1-score   support\n",
      "\n",
      "           0       0.91      0.99      0.95    661436\n",
      "           1       0.62      0.08      0.14     74136\n",
      "\n",
      "    accuracy                           0.90    735572\n",
      "   macro avg       0.76      0.54      0.54    735572\n",
      "weighted avg       0.88      0.90      0.87    735572\n",
      "\n",
      "              precision    recall  f1-score   support\n",
      "\n",
      "           0       0.91      0.99      0.95    661436\n",
      "           1       0.62      0.08      0.14     74136\n",
      "\n",
      "    accuracy                           0.90    735572\n",
      "   macro avg       0.76      0.54      0.54    735572\n",
      "weighted avg       0.88      0.90      0.87    735572\n",
      "\n"
     ]
    },
    {
     "data": {
      "image/svg+xml": [
       "<?xml version=\"1.0\" encoding=\"UTF-8\" standalone=\"no\"?>\n",
       "<!DOCTYPE svg PUBLIC \"-//W3C//DTD SVG 1.1//EN\"\n",
       " \"http://www.w3.org/Graphics/SVG/1.1/DTD/svg11.dtd\">\n",
       "<!-- Generated by graphviz version 7.0.0 (20221023.0053)\n",
       " -->\n",
       "<!-- Title: Tree Pages: 1 -->\n",
       "<svg width=\"650pt\" height=\"311pt\"\n",
       " viewBox=\"0.00 0.00 650.00 311.00\" xmlns=\"http://www.w3.org/2000/svg\" xmlns:xlink=\"http://www.w3.org/1999/xlink\">\n",
       "<g id=\"graph0\" class=\"graph\" transform=\"scale(1 1) rotate(0) translate(4 307)\">\n",
       "<title>Tree</title>\n",
       "<polygon fill=\"white\" stroke=\"none\" points=\"-4,4 -4,-307 646,-307 646,4 -4,4\"/>\n",
       "<!-- 0 -->\n",
       "<g id=\"node1\" class=\"node\">\n",
       "<title>0</title>\n",
       "<polygon fill=\"#e88f4f\" stroke=\"black\" points=\"394,-303 247,-303 247,-250 394,-250 394,-303\"/>\n",
       "<text text-anchor=\"middle\" x=\"320.5\" y=\"-287.8\" font-family=\"Helvetica,sans-Serif\" font-size=\"14.00\">attid &lt;= 304.5</text>\n",
       "<text text-anchor=\"middle\" x=\"320.5\" y=\"-272.8\" font-family=\"Helvetica,sans-Serif\" font-size=\"14.00\">samples = 100.0%</text>\n",
       "<text text-anchor=\"middle\" x=\"320.5\" y=\"-257.8\" font-family=\"Helvetica,sans-Serif\" font-size=\"14.00\">value = [0.899, 0.101]</text>\n",
       "</g>\n",
       "<!-- 1 -->\n",
       "<g id=\"node2\" class=\"node\">\n",
       "<title>1</title>\n",
       "<polygon fill=\"#e88f4f\" stroke=\"black\" points=\"312,-214 165,-214 165,-161 312,-161 312,-214\"/>\n",
       "<text text-anchor=\"middle\" x=\"238.5\" y=\"-198.8\" font-family=\"Helvetica,sans-Serif\" font-size=\"14.00\">attid &lt;= 263.5</text>\n",
       "<text text-anchor=\"middle\" x=\"238.5\" y=\"-183.8\" font-family=\"Helvetica,sans-Serif\" font-size=\"14.00\">samples = 97.4%</text>\n",
       "<text text-anchor=\"middle\" x=\"238.5\" y=\"-168.8\" font-family=\"Helvetica,sans-Serif\" font-size=\"14.00\">value = [0.901, 0.099]</text>\n",
       "</g>\n",
       "<!-- 0&#45;&gt;1 -->\n",
       "<g id=\"edge1\" class=\"edge\">\n",
       "<title>0&#45;&gt;1</title>\n",
       "<path fill=\"none\" stroke=\"black\" d=\"M296.34,-249.87C288.24,-241.27 279.07,-231.55 270.47,-222.42\"/>\n",
       "<polygon fill=\"black\" stroke=\"black\" points=\"273.21,-220.23 263.81,-215.35 268.12,-225.03 273.21,-220.23\"/>\n",
       "<text text-anchor=\"middle\" x=\"262.03\" y=\"-235.54\" font-family=\"Helvetica,sans-Serif\" font-size=\"14.00\">True</text>\n",
       "</g>\n",
       "<!-- 188 -->\n",
       "<g id=\"node9\" class=\"node\">\n",
       "<title>188</title>\n",
       "<polygon fill=\"#eb9e67\" stroke=\"black\" points=\"477,-214 330,-214 330,-161 477,-161 477,-214\"/>\n",
       "<text text-anchor=\"middle\" x=\"403.5\" y=\"-198.8\" font-family=\"Helvetica,sans-Serif\" font-size=\"14.00\">attid &lt;= 305.5</text>\n",
       "<text text-anchor=\"middle\" x=\"403.5\" y=\"-183.8\" font-family=\"Helvetica,sans-Serif\" font-size=\"14.00\">samples = 2.6%</text>\n",
       "<text text-anchor=\"middle\" x=\"403.5\" y=\"-168.8\" font-family=\"Helvetica,sans-Serif\" font-size=\"14.00\">value = [0.812, 0.188]</text>\n",
       "</g>\n",
       "<!-- 0&#45;&gt;188 -->\n",
       "<g id=\"edge8\" class=\"edge\">\n",
       "<title>0&#45;&gt;188</title>\n",
       "<path fill=\"none\" stroke=\"black\" d=\"M344.95,-249.87C353.15,-241.27 362.43,-231.55 371.14,-222.42\"/>\n",
       "<polygon fill=\"black\" stroke=\"black\" points=\"373.52,-225 377.89,-215.34 368.45,-220.16 373.52,-225\"/>\n",
       "<text text-anchor=\"middle\" x=\"379.52\" y=\"-235.54\" font-family=\"Helvetica,sans-Serif\" font-size=\"14.00\">False</text>\n",
       "</g>\n",
       "<!-- 2 -->\n",
       "<g id=\"node3\" class=\"node\">\n",
       "<title>2</title>\n",
       "<polygon fill=\"#e89050\" stroke=\"black\" points=\"147,-125 0,-125 0,-72 147,-72 147,-125\"/>\n",
       "<text text-anchor=\"middle\" x=\"73.5\" y=\"-109.8\" font-family=\"Helvetica,sans-Serif\" font-size=\"14.00\">attid &lt;= 235.5</text>\n",
       "<text text-anchor=\"middle\" x=\"73.5\" y=\"-94.8\" font-family=\"Helvetica,sans-Serif\" font-size=\"14.00\">samples = 84.3%</text>\n",
       "<text text-anchor=\"middle\" x=\"73.5\" y=\"-79.8\" font-family=\"Helvetica,sans-Serif\" font-size=\"14.00\">value = [0.897, 0.103]</text>\n",
       "</g>\n",
       "<!-- 1&#45;&gt;2 -->\n",
       "<g id=\"edge2\" class=\"edge\">\n",
       "<title>1&#45;&gt;2</title>\n",
       "<path fill=\"none\" stroke=\"black\" d=\"M189.44,-160.63C171.65,-151.25 151.36,-140.55 132.77,-130.75\"/>\n",
       "<polygon fill=\"black\" stroke=\"black\" points=\"134.47,-127.69 123.99,-126.12 131.21,-133.88 134.47,-127.69\"/>\n",
       "</g>\n",
       "<!-- 139 -->\n",
       "<g id=\"node6\" class=\"node\">\n",
       "<title>139</title>\n",
       "<polygon fill=\"#e78a48\" stroke=\"black\" points=\"312,-125 165,-125 165,-72 312,-72 312,-125\"/>\n",
       "<text text-anchor=\"middle\" x=\"238.5\" y=\"-109.8\" font-family=\"Helvetica,sans-Serif\" font-size=\"14.00\">attid &lt;= 268.5</text>\n",
       "<text text-anchor=\"middle\" x=\"238.5\" y=\"-94.8\" font-family=\"Helvetica,sans-Serif\" font-size=\"14.00\">samples = 13.1%</text>\n",
       "<text text-anchor=\"middle\" x=\"238.5\" y=\"-79.8\" font-family=\"Helvetica,sans-Serif\" font-size=\"14.00\">value = [0.931, 0.069]</text>\n",
       "</g>\n",
       "<!-- 1&#45;&gt;139 -->\n",
       "<g id=\"edge5\" class=\"edge\">\n",
       "<title>1&#45;&gt;139</title>\n",
       "<path fill=\"none\" stroke=\"black\" d=\"M238.5,-160.87C238.5,-153.24 238.5,-144.72 238.5,-136.51\"/>\n",
       "<polygon fill=\"black\" stroke=\"black\" points=\"242,-136.76 238.5,-126.76 235,-136.76 242,-136.76\"/>\n",
       "</g>\n",
       "<!-- 3 -->\n",
       "<g id=\"node4\" class=\"node\">\n",
       "<title>3</title>\n",
       "<polygon fill=\"#c0c0c0\" stroke=\"black\" points=\"70.5,-36 16.5,-36 16.5,0 70.5,0 70.5,-36\"/>\n",
       "<text text-anchor=\"middle\" x=\"43.5\" y=\"-14.3\" font-family=\"Helvetica,sans-Serif\" font-size=\"14.00\">(...)</text>\n",
       "</g>\n",
       "<!-- 2&#45;&gt;3 -->\n",
       "<g id=\"edge3\" class=\"edge\">\n",
       "<title>2&#45;&gt;3</title>\n",
       "<path fill=\"none\" stroke=\"black\" d=\"M63.68,-71.8C60.62,-63.8 57.24,-54.96 54.13,-46.83\"/>\n",
       "<polygon fill=\"black\" stroke=\"black\" points=\"57.5,-45.84 50.66,-37.74 50.96,-48.33 57.5,-45.84\"/>\n",
       "</g>\n",
       "<!-- 92 -->\n",
       "<g id=\"node5\" class=\"node\">\n",
       "<title>92</title>\n",
       "<polygon fill=\"#c0c0c0\" stroke=\"black\" points=\"142.5,-36 88.5,-36 88.5,0 142.5,0 142.5,-36\"/>\n",
       "<text text-anchor=\"middle\" x=\"115.5\" y=\"-14.3\" font-family=\"Helvetica,sans-Serif\" font-size=\"14.00\">(...)</text>\n",
       "</g>\n",
       "<!-- 2&#45;&gt;92 -->\n",
       "<g id=\"edge4\" class=\"edge\">\n",
       "<title>2&#45;&gt;92</title>\n",
       "<path fill=\"none\" stroke=\"black\" d=\"M87.25,-71.8C91.63,-63.62 96.48,-54.55 100.91,-46.27\"/>\n",
       "<polygon fill=\"black\" stroke=\"black\" points=\"103.88,-48.13 105.51,-37.66 97.71,-44.83 103.88,-48.13\"/>\n",
       "</g>\n",
       "<!-- 140 -->\n",
       "<g id=\"node7\" class=\"node\">\n",
       "<title>140</title>\n",
       "<polygon fill=\"#c0c0c0\" stroke=\"black\" points=\"224.5,-36 170.5,-36 170.5,0 224.5,0 224.5,-36\"/>\n",
       "<text text-anchor=\"middle\" x=\"197.5\" y=\"-14.3\" font-family=\"Helvetica,sans-Serif\" font-size=\"14.00\">(...)</text>\n",
       "</g>\n",
       "<!-- 139&#45;&gt;140 -->\n",
       "<g id=\"edge6\" class=\"edge\">\n",
       "<title>139&#45;&gt;140</title>\n",
       "<path fill=\"none\" stroke=\"black\" d=\"M225.08,-71.8C220.81,-63.62 216.07,-54.55 211.74,-46.27\"/>\n",
       "<polygon fill=\"black\" stroke=\"black\" points=\"214.98,-44.92 207.25,-37.67 208.78,-48.16 214.98,-44.92\"/>\n",
       "</g>\n",
       "<!-- 149 -->\n",
       "<g id=\"node8\" class=\"node\">\n",
       "<title>149</title>\n",
       "<polygon fill=\"#c0c0c0\" stroke=\"black\" points=\"296.5,-36 242.5,-36 242.5,0 296.5,0 296.5,-36\"/>\n",
       "<text text-anchor=\"middle\" x=\"269.5\" y=\"-14.3\" font-family=\"Helvetica,sans-Serif\" font-size=\"14.00\">(...)</text>\n",
       "</g>\n",
       "<!-- 139&#45;&gt;149 -->\n",
       "<g id=\"edge7\" class=\"edge\">\n",
       "<title>139&#45;&gt;149</title>\n",
       "<path fill=\"none\" stroke=\"black\" d=\"M248.65,-71.8C251.81,-63.8 255.3,-54.96 258.51,-46.83\"/>\n",
       "<polygon fill=\"black\" stroke=\"black\" points=\"261.68,-48.32 262.1,-37.74 255.17,-45.75 261.68,-48.32\"/>\n",
       "</g>\n",
       "<!-- 189 -->\n",
       "<g id=\"node10\" class=\"node\">\n",
       "<title>189</title>\n",
       "<polygon fill=\"#f2be98\" stroke=\"black\" points=\"477,-117.5 330,-117.5 330,-79.5 477,-79.5 477,-117.5\"/>\n",
       "<text text-anchor=\"middle\" x=\"403.5\" y=\"-102.3\" font-family=\"Helvetica,sans-Serif\" font-size=\"14.00\">samples = 0.3%</text>\n",
       "<text text-anchor=\"middle\" x=\"403.5\" y=\"-87.3\" font-family=\"Helvetica,sans-Serif\" font-size=\"14.00\">value = [0.675, 0.325]</text>\n",
       "</g>\n",
       "<!-- 188&#45;&gt;189 -->\n",
       "<g id=\"edge9\" class=\"edge\">\n",
       "<title>188&#45;&gt;189</title>\n",
       "<path fill=\"none\" stroke=\"black\" d=\"M403.5,-160.87C403.5,-150.92 403.5,-139.47 403.5,-129.18\"/>\n",
       "<polygon fill=\"black\" stroke=\"black\" points=\"407,-129.29 403.5,-119.29 400,-129.29 407,-129.29\"/>\n",
       "</g>\n",
       "<!-- 190 -->\n",
       "<g id=\"node11\" class=\"node\">\n",
       "<title>190</title>\n",
       "<polygon fill=\"#ea9b61\" stroke=\"black\" points=\"642,-125 495,-125 495,-72 642,-72 642,-125\"/>\n",
       "<text text-anchor=\"middle\" x=\"568.5\" y=\"-109.8\" font-family=\"Helvetica,sans-Serif\" font-size=\"14.00\">attid &lt;= 308.5</text>\n",
       "<text text-anchor=\"middle\" x=\"568.5\" y=\"-94.8\" font-family=\"Helvetica,sans-Serif\" font-size=\"14.00\">samples = 2.2%</text>\n",
       "<text text-anchor=\"middle\" x=\"568.5\" y=\"-79.8\" font-family=\"Helvetica,sans-Serif\" font-size=\"14.00\">value = [0.831, 0.169]</text>\n",
       "</g>\n",
       "<!-- 188&#45;&gt;190 -->\n",
       "<g id=\"edge10\" class=\"edge\">\n",
       "<title>188&#45;&gt;190</title>\n",
       "<path fill=\"none\" stroke=\"black\" d=\"M452.56,-160.63C470.35,-151.25 490.64,-140.55 509.23,-130.75\"/>\n",
       "<polygon fill=\"black\" stroke=\"black\" points=\"510.79,-133.88 518.01,-126.12 507.53,-127.69 510.79,-133.88\"/>\n",
       "</g>\n",
       "<!-- 191 -->\n",
       "<g id=\"node12\" class=\"node\">\n",
       "<title>191</title>\n",
       "<polygon fill=\"#c0c0c0\" stroke=\"black\" points=\"559.5,-36 505.5,-36 505.5,0 559.5,0 559.5,-36\"/>\n",
       "<text text-anchor=\"middle\" x=\"532.5\" y=\"-14.3\" font-family=\"Helvetica,sans-Serif\" font-size=\"14.00\">(...)</text>\n",
       "</g>\n",
       "<!-- 190&#45;&gt;191 -->\n",
       "<g id=\"edge11\" class=\"edge\">\n",
       "<title>190&#45;&gt;191</title>\n",
       "<path fill=\"none\" stroke=\"black\" d=\"M556.71,-71.8C553.01,-63.71 548.9,-54.76 545.13,-46.55\"/>\n",
       "<polygon fill=\"black\" stroke=\"black\" points=\"548.43,-45.34 541.08,-37.71 542.07,-48.25 548.43,-45.34\"/>\n",
       "</g>\n",
       "<!-- 196 -->\n",
       "<g id=\"node13\" class=\"node\">\n",
       "<title>196</title>\n",
       "<polygon fill=\"#c0c0c0\" stroke=\"black\" points=\"631.5,-36 577.5,-36 577.5,0 631.5,0 631.5,-36\"/>\n",
       "<text text-anchor=\"middle\" x=\"604.5\" y=\"-14.3\" font-family=\"Helvetica,sans-Serif\" font-size=\"14.00\">(...)</text>\n",
       "</g>\n",
       "<!-- 190&#45;&gt;196 -->\n",
       "<g id=\"edge12\" class=\"edge\">\n",
       "<title>190&#45;&gt;196</title>\n",
       "<path fill=\"none\" stroke=\"black\" d=\"M580.29,-71.8C583.99,-63.71 588.1,-54.76 591.87,-46.55\"/>\n",
       "<polygon fill=\"black\" stroke=\"black\" points=\"594.93,-48.25 595.92,-37.71 588.57,-45.34 594.93,-48.25\"/>\n",
       "</g>\n",
       "</g>\n",
       "</svg>\n"
      ],
      "text/plain": [
       "<graphviz.sources.Source at 0x12ce431f0>"
      ]
     },
     "metadata": {},
     "output_type": "display_data"
    },
    {
     "data": {
      "image/png": "[encoded data removed]",
      "text/plain": [
       "<Figure size 640x480 with 2 Axes>"
      ]
     },
     "metadata": {},
     "output_type": "display_data"
    }
   ],
   "source": [
    "import graphviz\n",
    "import matplotlib.pyplot as plt\n",
    "from sklearn.metrics import ConfusionMatrixDisplay, confusion_matrix\n",
    "from sklearn.tree import export_graphviz\n",
    "\n",
    "cm = confusion_matrix(y_test, y_pred, labels=clf.classes_)\n",
    "disp = ConfusionMatrixDisplay(confusion_matrix=cm,display_labels=clf.classes_)\n",
    "\n",
    "for i in range(3):    \n",
    "    tree = clf.estimators_[i]\n",
    "    tree.fit(X_train, y_train)\n",
    "    y_pred = tree.predict(X_test)\n",
    "    print(classification_report(y_test, y_pred))\n",
    "    dot_data = export_graphviz(tree, feature_names=X_train.columns, filled=True,  max_depth=2, \n",
    "                               impurity=False, \n",
    "                               proportion=True)\n",
    "    graph = graphviz.Source(dot_data)\n",
    "    \n",
    "display(graph)\n",
    "disp.plot()\n",
    "plt.show()\n"
   ]
  }
 ],
 "metadata": {
  "kernelspec": {
   "display_name": "Python 3",
   "language": "python",
   "name": "python3"
  },
  "language_info": {
   "codemirror_mode": {
    "name": "ipython",
    "version": 3
   },
   "file_extension": ".py",
   "mimetype": "text/x-python",
   "name": "python",
   "nbconvert_exporter": "python",
   "pygments_lexer": "ipython3",
   "version": "3.10.8"
  }
 },
 "nbformat": 4,
 "nbformat_minor": 2
}
